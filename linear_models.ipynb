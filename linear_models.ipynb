{
 "cells": [
  {
   "cell_type": "markdown",
   "metadata": {},
   "source": [
    "# Linear Models"
   ]
  },
  {
   "cell_type": "code",
   "execution_count": 286,
   "metadata": {},
   "outputs": [],
   "source": [
    "%matplotlib inline\n",
    "\n",
    "import pandas as pd\n",
    "import matplotlib.pyplot as plt\n",
    "import numpy as np\n",
    "import sqlite3\n",
    "from sklearn.model_selection import train_test_split\n",
    "from sklearn.linear_model import LogisticRegression\n",
    "from sklearn.metrics import accuracy_score\n",
    "from sklearn.preprocessing import StandardScaler\n",
    "from sklearn.model_selection import GridSearchCV\n",
    "from sklearn.model_selection import RandomizedSearchCV\n",
    "from sklearn.metrics import classification_report"
   ]
  },
  {
   "cell_type": "code",
   "execution_count": 316,
   "metadata": {},
   "outputs": [
    {
     "name": "stdout",
     "output_type": "stream",
     "text": [
      "Index(['fips', 'month', 'date', 'year', 'precipitation', 'pressure',\n",
      "       'humidity_2m', 'temp_2m', 'temp_dew_point_2m', 'temp_wet_bulb_2m',\n",
      "       'temp_max_2m', 'temp_min_2m', 'temp_range_2m', 'temp_0m', 'wind_10m',\n",
      "       'wind_max_10m', 'wind_min_10m', 'wind_range_10m', 'wind_50m',\n",
      "       'wind_max_50m', 'wind_min_50m', 'wind_range_50m', 'drought_score',\n",
      "       'elevation', 'slope_005', 'slope_005_02', 'slope_02_05', 'slope_05_10',\n",
      "       'slope_10_15', 'slope_15_30', 'slope_30_45', 'slope_45', 'aspect_north',\n",
      "       'aspect_east', 'aspect_south', 'aspect_west', 'aspect_unknown',\n",
      "       'water_land', 'barren_land', 'urban_land', 'grass_land', 'forest_land',\n",
      "       'partial_cultivated_land', 'irrigated_land', 'cultivated_land',\n",
      "       'nutrient', 'nutrient_retention', 'rooting', 'oxygen', 'excess_salts',\n",
      "       'toxicity', 'workablity', 'fire_size', 'fire_size_class'],\n",
      "      dtype='object')\n"
     ]
    }
   ],
   "source": [
    "conn = sqlite3.connect('/Users/eerichmo/Documents/fires.sqlite')\n",
    "cur = conn.cursor()\n",
    "\n",
    "df_fires = pd.read_sql_query(\"\"\"\n",
    "select\n",
    "\tweather_county.fips,\n",
    "\tweather_county.month,\n",
    "\tweather_county.date,\n",
    "\tweather_county.year,\n",
    "\tweather_county.precipitation,\n",
    "\tweather_county.pressure,\n",
    "\tweather_county.humidity_2m,\n",
    "\tweather_county.temp_2m,\n",
    "\tweather_county.temp_dew_point_2m,\n",
    "\tweather_county.temp_wet_bulb_2m,\n",
    "\tweather_county.temp_max_2m,\n",
    "\tweather_county.temp_min_2m,\n",
    "\tweather_county.temp_range_2m,\n",
    "\tweather_county.temp_0m,\n",
    "\tweather_county.wind_10m,\n",
    "\tweather_county.wind_max_10m,\n",
    "\tweather_county.wind_min_10m,\n",
    "\tweather_county.wind_range_10m,\n",
    "\tweather_county.wind_50m,\n",
    "\tweather_county.wind_max_50m,\n",
    "\tweather_county.wind_min_50m,\n",
    "\tweather_county.wind_range_50m,\n",
    "\tweather_county.drought_score,\n",
    "\tsoil.elevation,\n",
    "\tsoil.slope_005,\n",
    "\tsoil.slope_005_02,\n",
    "\tsoil.slope_02_05,\n",
    "\tsoil.slope_05_10,\n",
    "\tsoil.slope_10_15,\n",
    "\tsoil.slope_15_30,\n",
    "\tsoil.slope_30_45,\n",
    "\tsoil.slope_45,\n",
    "\tsoil.aspect_north,\n",
    "\tsoil.aspect_east,\n",
    "\tsoil.aspect_south,\n",
    "\tsoil.aspect_west,\n",
    "\tsoil.aspect_unknown,\n",
    "\tsoil.water_land,\n",
    "\tsoil.barren_land,\n",
    "\tsoil.urban_land,\n",
    "\tsoil.grass_land,\n",
    "\tsoil.forest_land,\n",
    "\tsoil.partial_cultivated_land,\n",
    "\tsoil.irrigated_land,\n",
    "\tsoil.cultivated_land,\n",
    "\tsoil.nutrient,\n",
    "\tsoil.nutrient_retention,\n",
    "\tsoil.rooting,\n",
    "\tsoil.oxygen,\n",
    "\tsoil.excess_salts,\n",
    "\tsoil.toxicity,\n",
    "\tsoil.workablity,\n",
    "\n",
    "\tifnull(fires.fire_size, 0) as fire_size,\n",
    "  ifnull(fires.fire_size_class, '') as fire_size_class\n",
    "from weather_county\n",
    "inner join soil\n",
    "left outer join (\n",
    "\tselect max(fire_size) as fire_size, max(fire_size_class) as fire_size_class, fips, date\n",
    "\tfrom fires\n",
    "\twhere\n",
    "\t\tcause_descr in (\n",
    "\t\t\t'Miscellaneous', 'Lightning', 'Powerline', 'Missing/Undefined', 'Debris Buring', 'Campfire'\n",
    "\t\t)\n",
    "\tgroup by fips, date\n",
    ") as fires on\n",
    "  fires.fips = weather_county.fips\n",
    "  and fires.date = weather_county.date\n",
    "where\n",
    "  soil.fips = weather_county.fips\n",
    "\tand weather_county.month in (8, 9, 10, 11)\n",
    "\"\"\", conn)\n",
    "\n",
    "# TODO: try joining on a week date range in case the fire discovery date was late\n",
    "\n",
    "print(df_fires.columns)\n",
    "\n",
    "conn.close()"
   ]
  },
  {
   "cell_type": "code",
   "execution_count": 317,
   "metadata": {},
   "outputs": [
    {
     "name": "stdout",
     "output_type": "stream",
     "text": [
      "<class 'pandas.core.frame.DataFrame'>\n",
      "RangeIndex: 113216 entries, 0 to 113215\n",
      "Data columns (total 55 columns):\n",
      " #   Column                   Non-Null Count   Dtype         \n",
      "---  ------                   --------------   -----         \n",
      " 0   fips                     113216 non-null  int64         \n",
      " 1   month                    113216 non-null  int64         \n",
      " 2   date                     113216 non-null  datetime64[ns]\n",
      " 3   year                     113216 non-null  int64         \n",
      " 4   precipitation            113216 non-null  float64       \n",
      " 5   pressure                 113216 non-null  float64       \n",
      " 6   humidity_2m              113216 non-null  float64       \n",
      " 7   temp_2m                  113216 non-null  float64       \n",
      " 8   temp_dew_point_2m        113216 non-null  float64       \n",
      " 9   temp_wet_bulb_2m         113216 non-null  float64       \n",
      " 10  temp_max_2m              113216 non-null  float64       \n",
      " 11  temp_min_2m              113216 non-null  float64       \n",
      " 12  temp_range_2m            113216 non-null  float64       \n",
      " 13  temp_0m                  113216 non-null  float64       \n",
      " 14  wind_10m                 113216 non-null  float64       \n",
      " 15  wind_max_10m             113216 non-null  float64       \n",
      " 16  wind_min_10m             113216 non-null  float64       \n",
      " 17  wind_range_10m           113216 non-null  float64       \n",
      " 18  wind_50m                 113216 non-null  float64       \n",
      " 19  wind_max_50m             113216 non-null  float64       \n",
      " 20  wind_min_50m             113216 non-null  float64       \n",
      " 21  wind_range_50m           113216 non-null  float64       \n",
      " 22  drought_score            113216 non-null  float64       \n",
      " 23  elevation                113216 non-null  int64         \n",
      " 24  slope_005                113216 non-null  float64       \n",
      " 25  slope_005_02             113216 non-null  float64       \n",
      " 26  slope_02_05              113216 non-null  float64       \n",
      " 27  slope_05_10              113216 non-null  float64       \n",
      " 28  slope_10_15              113216 non-null  float64       \n",
      " 29  slope_15_30              113216 non-null  float64       \n",
      " 30  slope_30_45              113216 non-null  float64       \n",
      " 31  slope_45                 113216 non-null  float64       \n",
      " 32  aspect_north             113216 non-null  float64       \n",
      " 33  aspect_east              113216 non-null  float64       \n",
      " 34  aspect_south             113216 non-null  float64       \n",
      " 35  aspect_west              113216 non-null  float64       \n",
      " 36  aspect_unknown           113216 non-null  float64       \n",
      " 37  water_land               113216 non-null  float64       \n",
      " 38  barren_land              113216 non-null  float64       \n",
      " 39  urban_land               113216 non-null  float64       \n",
      " 40  grass_land               113216 non-null  float64       \n",
      " 41  forest_land              113216 non-null  float64       \n",
      " 42  partial_cultivated_land  113216 non-null  float64       \n",
      " 43  irrigated_land           113216 non-null  float64       \n",
      " 44  cultivated_land          113216 non-null  float64       \n",
      " 45  nutrient                 113216 non-null  int64         \n",
      " 46  nutrient_retention       113216 non-null  int64         \n",
      " 47  rooting                  113216 non-null  int64         \n",
      " 48  oxygen                   113216 non-null  int64         \n",
      " 49  excess_salts             113216 non-null  int64         \n",
      " 50  toxicity                 113216 non-null  int64         \n",
      " 51  workablity               113216 non-null  int64         \n",
      " 52  fire_size                113216 non-null  float64       \n",
      " 53  fire_size_class          113216 non-null  object        \n",
      " 54  day_of_week              113216 non-null  int64         \n",
      "dtypes: datetime64[ns](1), float64(41), int64(12), object(1)\n",
      "memory usage: 47.5+ MB\n",
      "None\n",
      "Index(['precipitation', 'pressure', 'humidity_2m', 'temp_2m',\n",
      "       'temp_dew_point_2m', 'temp_wet_bulb_2m', 'temp_max_2m', 'temp_min_2m',\n",
      "       'temp_range_2m', 'temp_0m',\n",
      "       ...\n",
      "       'year_2010', 'year_2011', 'year_2012', 'year_2013', 'year_2014',\n",
      "       'year_2015', 'month_8', 'month_9', 'month_10', 'month_11'],\n",
      "      dtype='object', length=133)\n"
     ]
    }
   ],
   "source": [
    "from datetime import datetime\n",
    "\n",
    "df_fires.date = pd.to_datetime(df_fires.date)\n",
    "df_fires['day_of_week'] = df_fires.date.dt.dayofweek\n",
    "\n",
    "print(df_fires.info())\n",
    "\n",
    "X_trim = df_fires.drop(['date', 'fire_size', 'fire_size_class',\n",
    "  # 'humidity_2m',\n",
    "  # 'temp_2m', 'temp_dew_point_2m', 'temp_wet_bulb_2m', 'temp_max_2m', 'temp_min_2m', 'temp_range_2m', 'temp_0m',\n",
    "  # 'elevation',\n",
    "  # 'slope_005','slope_005_02', 'slope_02_05', 'slope_05_10', 'slope_10_15', 'slope_15_30', 'slope_30_45', 'slope_45',\n",
    "  # 'aspect_north', 'aspect_east', 'aspect_south', 'aspect_west', 'aspect_unknown',\n",
    "  # 'water_land', 'barren_land', 'urban_land', 'grass_land', 'forest_land', 'partial_cultivated_land', 'irrigated_land', 'cultivated_land',\n",
    "  # 'nutrient', 'nutrient_retention', 'rooting', 'oxygen', 'excess_salts', 'toxicity', 'workablity'\n",
    "  ],\n",
    "  axis=1)\n",
    "\n",
    "X_encoded = pd.get_dummies(X_trim, columns=['fips', 'day_of_week', 'year', 'month'])\n",
    "print(X_encoded.columns)"
   ]
  },
  {
   "cell_type": "code",
   "execution_count": 318,
   "metadata": {},
   "outputs": [
    {
     "name": "stdout",
     "output_type": "stream",
     "text": [
      "Estimator LogisticRegression(C=1, max_iter=1000, solver='liblinear')\n"
     ]
    }
   ],
   "source": [
    "scaler = StandardScaler()\n",
    "scaler.fit(X_encoded)\n",
    "X = scaler.transform(X_encoded)\n",
    "\n",
    "y = (df_fires.fire_size_class > 'A').values # Ignore small fires ('' or 'A') for now\n",
    "\n",
    "X_train, X_test, y_train, y_test = train_test_split(X, y, random_state=42)\n",
    "\n",
    "params={\n",
    "  'C': [0.1, 1],\n",
    "}\n",
    "\n",
    "log_reg = LogisticRegression(solver='liblinear', max_iter=1000)\n",
    "log_reg = GridSearchCV(estimator=log_reg, param_grid=params, scoring='accuracy', cv=5)\n",
    "\n",
    "log_reg.fit(X, y)\n",
    "\n",
    "print(f'Estimator', log_reg.best_estimator_)"
   ]
  },
  {
   "cell_type": "code",
   "execution_count": 319,
   "metadata": {},
   "outputs": [
    {
     "name": "stdout",
     "output_type": "stream",
     "text": [
      "9291 non-small fires out of 113216 data points\n",
      "No fires 0.92% of the time\n",
      "--------- Log Regression Accuracy ---------\n",
      "0.9202586206896551\n",
      "--------- Log Regression Classification ---------\n",
      "              precision    recall  f1-score   support\n",
      "\n",
      "       False       0.92      1.00      0.96     77911\n",
      "        True       0.58      0.03      0.06      7001\n",
      "\n",
      "    accuracy                           0.92     84912\n",
      "   macro avg       0.75      0.52      0.51     84912\n",
      "weighted avg       0.89      0.92      0.88     84912\n",
      "\n"
     ]
    }
   ],
   "source": [
    "num_fires = (y == 1).sum()\n",
    "num_data_pt = len(y)\n",
    "print(f'{num_fires} non-small fires out of {len(y)} data points')\n",
    "print(f'No fires {1 - round(num_fires/num_data_pt, 2)}% of the time')\n",
    "\n",
    "print('--------- Log Regression Accuracy ---------')\n",
    "print(accuracy_score(log_reg.predict(X_test), y_test))\n",
    "\n",
    "y_pred_log_reg = log_reg.predict(X_train)\n",
    "\n",
    "print('--------- Log Regression Classification ---------')\n",
    "print(classification_report(y_train, y_pred_log_reg))"
   ]
  },
  {
   "cell_type": "code",
   "execution_count": 320,
   "metadata": {},
   "outputs": [
    {
     "name": "stdout",
     "output_type": "stream",
     "text": [
      "Best Params {'n_estimators': 80, 'min_samples_split': 4, 'min_samples_leaf': 2, 'max_leaf_nodes': 14, 'max_features': 3, 'max_depth': 16}\n",
      "Best Score 0.9175499343968381\n",
      "--------- RandomForestClassifier Classification ---------\n",
      "              precision    recall  f1-score   support\n",
      "\n",
      "       False       0.92      1.00      0.96     26014\n",
      "        True       0.00      0.00      0.00      2290\n",
      "\n",
      "    accuracy                           0.92     28304\n",
      "   macro avg       0.46      0.50      0.48     28304\n",
      "weighted avg       0.84      0.92      0.88     28304\n",
      "\n"
     ]
    },
    {
     "name": "stderr",
     "output_type": "stream",
     "text": [
      "/Users/eerichmo/opt/anaconda3/lib/python3.8/site-packages/sklearn/metrics/_classification.py:1318: UndefinedMetricWarning: Precision and F-score are ill-defined and being set to 0.0 in labels with no predicted samples. Use `zero_division` parameter to control this behavior.\n",
      "  _warn_prf(average, modifier, msg_start, len(result))\n",
      "/Users/eerichmo/opt/anaconda3/lib/python3.8/site-packages/sklearn/metrics/_classification.py:1318: UndefinedMetricWarning: Precision and F-score are ill-defined and being set to 0.0 in labels with no predicted samples. Use `zero_division` parameter to control this behavior.\n",
      "  _warn_prf(average, modifier, msg_start, len(result))\n",
      "/Users/eerichmo/opt/anaconda3/lib/python3.8/site-packages/sklearn/metrics/_classification.py:1318: UndefinedMetricWarning: Precision and F-score are ill-defined and being set to 0.0 in labels with no predicted samples. Use `zero_division` parameter to control this behavior.\n",
      "  _warn_prf(average, modifier, msg_start, len(result))\n"
     ]
    }
   ],
   "source": [
    "from sklearn.ensemble import RandomForestClassifier\n",
    "\n",
    "params = {\n",
    "  'n_estimators': np.arange(40, 120, 20),\n",
    "  # 'splitter': ['best', 'random'],\n",
    "  'max_features': np.arange(2, 15, 1),\n",
    "  'max_depth': np.arange(10, 20, 1),\n",
    "  'min_samples_split': np.arange(2, 10, 1),\n",
    "  'min_samples_leaf': np.arange(1, 10, 1),\n",
    "  'max_leaf_nodes': np.arange(5, 15, 1),\n",
    "}\n",
    "\n",
    "rand_forest = RandomizedSearchCV(RandomForestClassifier(), params)\n",
    "rand_forest.fit(X_train, y_train)\n",
    "\n",
    "print(f'Best Params', rand_forest.best_params_)\n",
    "print(f'Best Score', rand_forest.best_score_)\n",
    "\n",
    "print('--------- RandomForestClassifier Classification ---------')\n",
    "y_pred_rand_forest = rand_forest.predict(X_test)\n",
    "print(classification_report(y_test, y_pred_rand_forest))"
   ]
  },
  {
   "cell_type": "code",
   "execution_count": 321,
   "metadata": {},
   "outputs": [
    {
     "data": {
      "image/png": "[encoded data removed]",
      "text/plain": [
       "<Figure size 1800x576 with 1 Axes>"
      ]
     },
     "metadata": {
      "needs_background": "light"
     },
     "output_type": "display_data"
    }
   ],
   "source": [
    "importances = rand_forest.best_estimator_.feature_importances_\n",
    "forest_importances = pd.Series(importances, index=X_encoded.columns.values)\n",
    "std = np.std([tree.feature_importances_ for tree in rand_forest.best_estimator_], axis=0)\n",
    "\n",
    "fig, ax = plt.subplots()\n",
    "forest_importances.plot.bar(yerr=std, ax=ax)\n",
    "ax.set_title('Feature importances using MDI')\n",
    "ax.set_ylabel('Mean decrease in impurity')\n",
    "fig.set_figheight(8)\n",
    "fig.set_figwidth(25)"
   ]
  },
  {
   "cell_type": "code",
   "execution_count": 304,
   "metadata": {},
   "outputs": [
    {
     "name": "stdout",
     "output_type": "stream",
     "text": [
      "Best Params: {'subsample': 0.5, 'objective': 'binary:logistic', 'n_estimators': 500, 'max_depth': 3, 'learning_rate': 0.1, 'gamma': 5, 'eval_metric': 'logloss', 'colsample_bytree': 0.1, 'colsample_bylevel': 1.0}\n"
     ]
    }
   ],
   "source": [
    "import xgboost as xgb\n",
    "\n",
    "params={\n",
    "  'objective': ['binary:logistic'],\n",
    "  'max_depth': [3, 4, 5],\n",
    "  'gamma':[0.5, 1, 5],\n",
    "  'subsample': [0.5],\n",
    "  'colsample_bytree': [0.1],\n",
    "  'colsample_bylevel': [1.0],\n",
    "  'learning_rate': [0.1],\n",
    "  'n_estimators': [500, 600],\n",
    "  'eval_metric': ['logloss']\n",
    "}\n",
    "\n",
    "xgb_clf = xgb.XGBClassifier(seed=42, use_label_encoder=False)\n",
    "\n",
    "xgb_clf = RandomizedSearchCV(estimator=xgb_clf, param_distributions=params)\n",
    "\n",
    "xgb_clf.fit(X_train, y_train)\n",
    "\n",
    "print(\"Best Params:\", xgb_clf.best_params_)\n",
    "\n",
    "# Best Params: {'subsample': 0.5, 'objective': 'binary:logistic', 'n_estimators': 500, 'max_depth': 3, 'learning_rate': 0.1, 'gamma': 5, 'eval_metric': 'logloss', 'colsample_bytree': 0.1, 'colsample_bylevel': 0.9}"
   ]
  },
  {
   "cell_type": "code",
   "execution_count": 305,
   "metadata": {},
   "outputs": [
    {
     "name": "stdout",
     "output_type": "stream",
     "text": [
      "--------- XGBoost Classification Report ---------\n",
      "              precision    recall  f1-score   support\n",
      "\n",
      "       False       0.92      1.00      0.96     26117\n",
      "        True       0.65      0.03      0.06      2187\n",
      "\n",
      "    accuracy                           0.92     28304\n",
      "   macro avg       0.79      0.52      0.51     28304\n",
      "weighted avg       0.90      0.92      0.89     28304\n",
      "\n"
     ]
    }
   ],
   "source": [
    "y_pred_xgb = xgb_clf.predict(X_test)\n",
    "\n",
    "print('--------- XGBoost Classification Report ---------')\n",
    "print(classification_report(y_test, y_pred_xgb))"
   ]
  },
  {
   "cell_type": "code",
   "execution_count": null,
   "metadata": {},
   "outputs": [],
   "source": []
  }
 ],
 "metadata": {
  "interpreter": {
   "hash": "4885f37acae9217c235118400878352aafa7b76e66df698a1f601374f86939a7"
  },
  "kernelspec": {
   "display_name": "Python 3.7.9 64-bit ('springboard': conda)",
   "name": "python3"
  },
  "language_info": {
   "codemirror_mode": {
    "name": "ipython",
    "version": 3
   },
   "file_extension": ".py",
   "mimetype": "text/x-python",
   "name": "python",
   "nbconvert_exporter": "python",
   "pygments_lexer": "ipython3",
   "version": "3.8.12"
  }
 },
 "nbformat": 4,
 "nbformat_minor": 4
}
