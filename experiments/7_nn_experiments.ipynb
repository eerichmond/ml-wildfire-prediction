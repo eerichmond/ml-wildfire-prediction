{
 "cells": [
  {
   "cell_type": "markdown",
   "metadata": {},
   "source": [
    "# Neural Network Experiments with PyTorch"
   ]
  },
  {
   "cell_type": "code",
   "execution_count": 1,
   "metadata": {},
   "outputs": [],
   "source": [
    "%matplotlib inline\n",
    "\n",
    "import pandas as pd\n",
    "import matplotlib.pyplot as plt\n",
    "from sklearn.preprocessing import StandardScaler\n",
    "from sklearn.model_selection import train_test_split\n",
    "import torch\n",
    "import torch.nn as nn\n",
    "import torch.nn.functional as F\n",
    "\n",
    "from all_col_queries import get_df"
   ]
  },
  {
   "cell_type": "code",
   "execution_count": 2,
   "metadata": {},
   "outputs": [
    {
     "name": "stdout",
     "output_type": "stream",
     "text": [
      "92659 fires out of 192659 data points\n",
      "No fires 52.0% of the time (ie unbalanced)\n",
      "X_train: 144494, X_test: 48165, y_train: 144494, y_test: 48165\n"
     ]
    }
   ],
   "source": [
    "df_fires = get_df()\n",
    "\n",
    "df_fires_encoded = pd.get_dummies(df_fires.drop(['fire_size_class'], axis=1), columns=['month', 'nutrient', 'nutrient_retention', 'rooting', 'oxygen', 'excess_salts', 'toxicity', 'workablity'])\n",
    "scaler = StandardScaler()\n",
    "scaler.fit(df_fires_encoded)\n",
    "\n",
    "X = scaler.transform(df_fires_encoded)\n",
    "y = df_fires.fire_size_class > ''\n",
    "\n",
    "num_fires = (y == True).sum()\n",
    "num_data_pt = len(y)\n",
    "print(f'{num_fires} fires out of {len(y)} data points')\n",
    "print(f'No fires {(1 - round(num_fires/num_data_pt, 2)) * 100}% of the time (ie unbalanced)')\n",
    "\n",
    "X_train, X_test, y_train, y_test = train_test_split(X, y, random_state=42)\n",
    "print(f'X_train: {len(X_train)}, X_test: {len(X_test)}, y_train: {len(y_train)}, y_test: {len(y_test)}')\n"
   ]
  },
  {
   "cell_type": "markdown",
   "metadata": {},
   "source": [
    "## PyTorch"
   ]
  },
  {
   "cell_type": "code",
   "execution_count": 3,
   "metadata": {},
   "outputs": [
    {
     "name": "stdout",
     "output_type": "stream",
     "text": [
      "Train DS: torch.Size([144494, 95])\n",
      "Test DS: torch.Size([48165, 95])\n"
     ]
    }
   ],
   "source": [
    "from torch.utils.data import TensorDataset\n",
    "features_train = torch.from_numpy(X_train).float()\n",
    "labels_train = torch.from_numpy(y_train.to_numpy()).long()\n",
    "train_ds = TensorDataset(features_train, labels_train)\n",
    "\n",
    "print(f'Train DS: {train_ds.tensors[0].size()}')\n",
    "\n",
    "features_test = torch.from_numpy(X_test).float()\n",
    "labels_test = torch.from_numpy(y_test.to_numpy()).long()\n",
    "test_ds = TensorDataset(features_test, labels_test)\n",
    "\n",
    "print(f'Test DS: {test_ds.tensors[0].size()}')"
   ]
  },
  {
   "cell_type": "code",
   "execution_count": 4,
   "metadata": {},
   "outputs": [],
   "source": [
    "from torch.utils.data import DataLoader\n",
    "\n",
    "batch_size = 200\n",
    "train_dl = DataLoader(train_ds, batch_size, shuffle=True)\n",
    "test_dl = DataLoader(test_ds, batch_size)"
   ]
  },
  {
   "cell_type": "code",
   "execution_count": 5,
   "metadata": {},
   "outputs": [],
   "source": [
    "def accuracy(outputs, labels):\n",
    "    _, preds = torch.max(outputs, dim=1)\n",
    "    return torch.tensor(torch.sum(preds == labels).item() / len(preds))"
   ]
  },
  {
   "cell_type": "code",
   "execution_count": 6,
   "metadata": {},
   "outputs": [],
   "source": [
    "def evaluate(model, valation_dl):\n",
    "    outputs = [model.validation_step(batch) for batch in valation_dl]\n",
    "    return model.validation_epoch_end(outputs)"
   ]
  },
  {
   "cell_type": "code",
   "execution_count": 7,
   "metadata": {},
   "outputs": [],
   "source": [
    "class LogisticModel(nn.Module):\n",
    "    def __init__(self, feature_count, label_count):\n",
    "        super().__init__()\n",
    "        self.linear = nn.Linear(feature_count, label_count)\n",
    "\n",
    "    def forward(self, xb):\n",
    "        out = self.linear(xb)\n",
    "        return out\n",
    "\n",
    "    def training_step(self, batch):\n",
    "        features, labels = batch \n",
    "        out = self(features)\n",
    "        loss = F.cross_entropy(out, labels)\n",
    "        return loss\n",
    "    \n",
    "    def validation_step(self, batch):\n",
    "        features, labels = batch \n",
    "        out = self(features)\n",
    "        loss = F.cross_entropy(out, labels)\n",
    "        acc = accuracy(out, labels)\n",
    "        return { 'loss': loss, 'accuracy': acc }\n",
    "        \n",
    "    def validation_epoch_end(self, outputs):\n",
    "        batch_losses = [x['loss'] for x in outputs]\n",
    "        epoch_loss = torch.stack(batch_losses).mean()   # Combine losses\n",
    "        batch_accs = [x['accuracy'] for x in outputs]\n",
    "        epoch_acc = torch.stack(batch_accs).mean()      # Combine accuracies\n",
    "        return { 'loss': epoch_loss.item(), 'accuracy': epoch_acc.item() }\n",
    "    \n",
    "    def epoch_end(self, epoch, result):\n",
    "        print(\"Epoch [{}], loss: {:.4f}, accuracy: {:.4f}\".format(epoch, result['loss'], result['accuracy']))"
   ]
  },
  {
   "cell_type": "code",
   "execution_count": 8,
   "metadata": {},
   "outputs": [],
   "source": [
    "def fit(epochs, lr, model, train_dl, test_dl, opt_func=torch.optim.Adam):\n",
    "    optimizer = opt_func(model.parameters(), lr)\n",
    "    history = [] # for recording epoch-wise results\n",
    "\n",
    "    for epoch in range(epochs):\n",
    "        # Training Phase \n",
    "        for batch in train_dl:\n",
    "            loss = model.training_step(batch)\n",
    "            loss.backward()\n",
    "            optimizer.step()\n",
    "            optimizer.zero_grad()\n",
    "\n",
    "        # Validation phase\n",
    "        result = evaluate(model, test_dl)\n",
    "        model.epoch_end(epoch, result)\n",
    "        history.append(result)\n",
    "\n",
    "    return history"
   ]
  },
  {
   "cell_type": "code",
   "execution_count": 9,
   "metadata": {},
   "outputs": [
    {
     "name": "stdout",
     "output_type": "stream",
     "text": [
      "Epoch [0], loss: 0.4947, accuracy: 0.7696\n",
      "Epoch [1], loss: 0.4846, accuracy: 0.7755\n",
      "Epoch [2], loss: 0.4814, accuracy: 0.7786\n",
      "Epoch [3], loss: 0.4796, accuracy: 0.7800\n",
      "Epoch [4], loss: 0.4788, accuracy: 0.7803\n",
      "Epoch [5], loss: 0.4782, accuracy: 0.7813\n",
      "Epoch [6], loss: 0.4774, accuracy: 0.7813\n",
      "Epoch [7], loss: 0.4769, accuracy: 0.7820\n",
      "Epoch [8], loss: 0.4764, accuracy: 0.7821\n",
      "Epoch [9], loss: 0.4760, accuracy: 0.7829\n",
      "Epoch [10], loss: 0.4757, accuracy: 0.7830\n",
      "Epoch [11], loss: 0.4753, accuracy: 0.7828\n",
      "Epoch [12], loss: 0.4751, accuracy: 0.7837\n",
      "Epoch [13], loss: 0.4747, accuracy: 0.7837\n",
      "Epoch [14], loss: 0.4744, accuracy: 0.7841\n",
      "Epoch [15], loss: 0.4741, accuracy: 0.7834\n",
      "Epoch [16], loss: 0.4738, accuracy: 0.7845\n",
      "Epoch [17], loss: 0.4736, accuracy: 0.7840\n",
      "Epoch [18], loss: 0.4735, accuracy: 0.7844\n",
      "Epoch [19], loss: 0.4732, accuracy: 0.7850\n"
     ]
    }
   ],
   "source": [
    "feature_count = features_train.size()[-1]\n",
    "model = LogisticModel(feature_count, 2)\n",
    "history = fit(20, 0.005, model, train_dl, test_dl, torch.optim.SGD)"
   ]
  },
  {
   "cell_type": "code",
   "execution_count": 10,
   "metadata": {},
   "outputs": [
    {
     "data": {
      "text/plain": [
       "Text(0.5, 1.0, 'Accuracy vs. No. of epochs')"
      ]
     },
     "execution_count": 10,
     "metadata": {},
     "output_type": "execute_result"
    },
    {
     "data": {
      "image/png": "[encoded data removed]",
      "text/plain": [
       "<Figure size 432x288 with 1 Axes>"
      ]
     },
     "metadata": {
      "needs_background": "light"
     },
     "output_type": "display_data"
    }
   ],
   "source": [
    "accuracies = [result['accuracy'] for result in history]\n",
    "plt.plot(accuracies, '-x')\n",
    "plt.xlabel('epoch')\n",
    "plt.ylabel('accuracy')\n",
    "plt.title('Accuracy vs. No. of epochs')"
   ]
  },
  {
   "cell_type": "code",
   "execution_count": 11,
   "metadata": {},
   "outputs": [],
   "source": [
    "class BinaryModel(nn.Module):\n",
    "    def __init__(self, feature_count, dropout, hidden_size = 64):\n",
    "        super(BinaryModel, self).__init__()\n",
    "        self.layer1 = nn.Linear(feature_count, hidden_size)\n",
    "        self.layer2 = nn.Linear(hidden_size, hidden_size)\n",
    "        self.layer_out = nn.Linear(hidden_size, 1)\n",
    "\n",
    "        self.relu = nn.ReLU()\n",
    "        self.dropout = nn.Dropout(p=dropout)\n",
    "        self.batchnorm1 = nn.BatchNorm1d(hidden_size)\n",
    "        self.batchnorm2 = nn.BatchNorm1d(hidden_size)\n",
    "\n",
    "    def forward(self, xb):\n",
    "        out = self.relu(self.layer1(xb))\n",
    "        out = self.batchnorm1(out)\n",
    "        out = self.relu(self.layer2(out))\n",
    "        out = self.batchnorm2(out)\n",
    "        out = self.dropout(out)\n",
    "        out = self.layer_out(out)\n",
    "        return out\n",
    "\n",
    "    def training_step(self, batch):\n",
    "        features, labels = batch \n",
    "        out = self(features)\n",
    "        out = torch.squeeze(out)\n",
    "        loss = F.binary_cross_entropy_with_logits(out, labels.float())\n",
    "        return loss\n",
    "    \n",
    "    def validation_step(self, batch):\n",
    "        features, labels = batch\n",
    "        out = self(features)\n",
    "        out = torch.squeeze(out)\n",
    "        pred = torch.round(torch.sigmoid(out))\n",
    "        tp = (pred * labels).sum().float()\n",
    "        fn = (labels * (1 - pred)).sum().float()\n",
    "        recall = tp / (tp + fn)\n",
    "\n",
    "        loss = F.binary_cross_entropy_with_logits(out, labels.float())\n",
    "\n",
    "        return { 'loss': loss, 'recall': recall }\n",
    "        \n",
    "    def validation_epoch_end(self, outputs):\n",
    "        batch_losses = [x['loss'] for x in outputs]\n",
    "        epoch_loss = torch.stack(batch_losses).mean()\n",
    "        batch_recalls = [x['recall'] for x in outputs]\n",
    "        epoch_recall = torch.stack(batch_recalls).mean()\n",
    "        return { 'loss': epoch_loss.item(), 'recall': epoch_recall.item() }\n",
    "    \n",
    "    def epoch_end(self, epoch, result):\n",
    "        print(\"Epoch [{}], loss: {:.4f}, recall: {:.4f}\".format(epoch, result['loss'], result['recall']))"
   ]
  },
  {
   "cell_type": "code",
   "execution_count": 12,
   "metadata": {},
   "outputs": [
    {
     "name": "stdout",
     "output_type": "stream",
     "text": [
      "Epoch [0], loss: 0.4304, recall: 0.8228\n",
      "Epoch [1], loss: 0.4259, recall: 0.8039\n",
      "Epoch [2], loss: 0.4179, recall: 0.8027\n",
      "Epoch [3], loss: 0.4166, recall: 0.8178\n",
      "Epoch [4], loss: 0.4128, recall: 0.8221\n",
      "Epoch [5], loss: 0.4100, recall: 0.8262\n",
      "Epoch [6], loss: 0.4083, recall: 0.8291\n",
      "Epoch [7], loss: 0.4052, recall: 0.8223\n",
      "Epoch [8], loss: 0.4062, recall: 0.8343\n",
      "Epoch [9], loss: 0.4027, recall: 0.8182\n",
      "Epoch [10], loss: 0.4079, recall: 0.8217\n",
      "Epoch [11], loss: 0.4005, recall: 0.8351\n",
      "Epoch [12], loss: 0.4015, recall: 0.8443\n",
      "Epoch [13], loss: 0.4022, recall: 0.8269\n",
      "Epoch [14], loss: 0.3979, recall: 0.8253\n"
     ]
    }
   ],
   "source": [
    "dropout = 0.1\n",
    "model = BinaryModel(feature_count, dropout)\n",
    "history = fit(15, 0.001, model, train_dl, test_dl)"
   ]
  },
  {
   "cell_type": "code",
   "execution_count": 13,
   "metadata": {},
   "outputs": [
    {
     "data": {
      "text/plain": [
       "Text(0.5, 1.0, 'Recall vs. No. of epochs')"
      ]
     },
     "execution_count": 13,
     "metadata": {},
     "output_type": "execute_result"
    },
    {
     "data": {
      "image/png": "[encoded data removed]",
      "text/plain": [
       "<Figure size 432x288 with 1 Axes>"
      ]
     },
     "metadata": {
      "needs_background": "light"
     },
     "output_type": "display_data"
    }
   ],
   "source": [
    "accuracies = [result['recall'] for result in history]\n",
    "plt.plot(accuracies, '-x')\n",
    "plt.xlabel('epoch')\n",
    "plt.ylabel('recall')\n",
    "plt.title('Recall vs. No. of epochs')"
   ]
  }
 ],
 "metadata": {
  "interpreter": {
   "hash": "4885f37acae9217c235118400878352aafa7b76e66df698a1f601374f86939a7"
  },
  "kernelspec": {
   "display_name": "Python 3.7.9 64-bit ('springboard': conda)",
   "name": "python3"
  },
  "language_info": {
   "codemirror_mode": {
    "name": "ipython",
    "version": 3
   },
   "file_extension": ".py",
   "mimetype": "text/x-python",
   "name": "python",
   "nbconvert_exporter": "python",
   "pygments_lexer": "ipython3",
   "version": "3.8.13"
  }
 },
 "nbformat": 4,
 "nbformat_minor": 4
}
