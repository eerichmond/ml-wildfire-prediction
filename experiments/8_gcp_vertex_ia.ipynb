{
 "cells": [
  {
   "cell_type": "markdown",
   "metadata": {},
   "source": [
    "# Google Cloud Platform Vertex AI Service\n",
    "\n",
    "I generated a 25k balanced sampling of wildfires CSV and provided it to the Vertex AI system to auto generate a model. The model ran for 2 hr 33 minutes and resulted in 98.8% recall.\n",
    "\n",
    "| Metric | Score |\n",
    "| ------ | ----- |\n",
    "| PR AUC | 0.996 |\n",
    "| ROC AUC | 0.996 |\n",
    "| Log loss | 0.057 |\n",
    "| F1 score | 0.9876977 |\n",
    "| Precision | 98.8% |\n",
    "| Recall | 98.8% |\n",
    "\n",
    "![metric graphs](gcp_metric_graphs.png)\n",
    "\n",
    "## Confusion Matrix\n",
    "![confusion matrix](gcp_confusion_matrix.png)\n",
    "\n",
    "## Feature Importance\n",
    "![feature importance](gcp_feature_importance.png)\n",
    "\n",
    "## Model Training History\n",
    "![model training #1](gcp_model_training_1.png)"
   ]
  }
 ],
 "metadata": {
  "language_info": {
   "name": "python"
  },
  "orig_nbformat": 4
 },
 "nbformat": 4,
 "nbformat_minor": 2
}
