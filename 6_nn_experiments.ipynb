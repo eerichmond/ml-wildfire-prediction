{
 "cells": [
  {
   "cell_type": "markdown",
   "metadata": {},
   "source": [
    "# Neural Network Experiments with PyTorch"
   ]
  },
  {
   "cell_type": "code",
   "execution_count": 109,
   "metadata": {},
   "outputs": [],
   "source": [
    "%matplotlib inline\n",
    "\n",
    "import pandas as pd\n",
    "import matplotlib.pyplot as plt\n",
    "from sklearn.model_selection import train_test_split\n",
    "from sklearn.preprocessing import StandardScaler\n",
    "import torch\n",
    "import torch.nn as nn\n",
    "import torch.nn.functional as F"
   ]
  },
  {
   "cell_type": "code",
   "execution_count": 179,
   "metadata": {},
   "outputs": [
    {
     "name": "stderr",
     "output_type": "stream",
     "text": [
      "/Users/eerichmo/opt/anaconda3/lib/python3.8/site-packages/IPython/core/interactiveshell.py:3361: DtypeWarning: Columns (57) have mixed types.Specify dtype option on import or set low_memory=False.\n",
      "  exec(code_obj, self.user_global_ns, self.user_ns)\n"
     ]
    },
    {
     "name": "stdout",
     "output_type": "stream",
     "text": [
      "100000 fires out of 200000 data points\n",
      "No fires 50.0% of the time (ie ~balanced)\n",
      "X_train: 150000, X_test: 50000, y_train: 150000, y_test: 50000\n"
     ]
    }
   ],
   "source": [
    "df_fires = pd.read_csv('df_fire_sample.csv')\n",
    "\n",
    "df_fires_encoded = pd.get_dummies(df_fires.drop(['fire_size_class'], axis=1), columns=['month'])\n",
    "scaler = StandardScaler()\n",
    "scaler.fit(df_fires_encoded)\n",
    "\n",
    "X = scaler.transform(df_fires_encoded)\n",
    "y = df_fires.fire_size_class > ''\n",
    "\n",
    "num_fires = (y == True).sum()\n",
    "num_data_pt = len(y)\n",
    "print(f'{num_fires} fires out of {len(y)} data points')\n",
    "print(f'No fires {(1 - round(num_fires/num_data_pt, 2)) * 100}% of the time (ie ~balanced)')\n",
    "\n",
    "X_train, X_test, y_train, y_test = train_test_split(X, y, random_state=42)\n",
    "print(f'X_train: {len(X_train)}, X_test: {len(X_test)}, y_train: {len(y_train)}, y_test: {len(y_test)}')"
   ]
  },
  {
   "cell_type": "markdown",
   "metadata": {},
   "source": [
    "## PyTorch"
   ]
  },
  {
   "cell_type": "code",
   "execution_count": 180,
   "metadata": {},
   "outputs": [],
   "source": [
    "from torch.utils.data import TensorDataset\n",
    "features = torch.from_numpy(X).float()\n",
    "labels = torch.from_numpy(y.to_numpy()).long()\n",
    "ds = TensorDataset(features, labels)"
   ]
  },
  {
   "cell_type": "code",
   "execution_count": 181,
   "metadata": {},
   "outputs": [
    {
     "data": {
      "text/plain": [
       "(140000, 60000)"
      ]
     },
     "execution_count": 181,
     "metadata": {},
     "output_type": "execute_result"
    }
   ],
   "source": [
    "from torch.utils.data import random_split\n",
    "\n",
    "data_pt_70 = round(num_data_pt * .7)\n",
    "train_ds, test_ds = random_split(ds, [data_pt_70, num_data_pt - data_pt_70])\n",
    "len(train_ds), len(test_ds)"
   ]
  },
  {
   "cell_type": "code",
   "execution_count": 182,
   "metadata": {},
   "outputs": [],
   "source": [
    "from torch.utils.data import DataLoader\n",
    "\n",
    "batch_size = 200\n",
    "train_dl = DataLoader(train_ds, batch_size, shuffle=True)\n",
    "test_dl = DataLoader(test_ds, batch_size)"
   ]
  },
  {
   "cell_type": "code",
   "execution_count": 183,
   "metadata": {},
   "outputs": [],
   "source": [
    "def accuracy(outputs, labels):\n",
    "    _, preds = torch.max(outputs, dim=1)\n",
    "    return torch.tensor(torch.sum(preds == labels).item() / len(preds))"
   ]
  },
  {
   "cell_type": "code",
   "execution_count": 184,
   "metadata": {},
   "outputs": [],
   "source": [
    "def evaluate(model, valation_dl):\n",
    "    outputs = [model.validation_step(batch) for batch in valation_dl]\n",
    "    return model.validation_epoch_end(outputs)"
   ]
  },
  {
   "cell_type": "code",
   "execution_count": 185,
   "metadata": {},
   "outputs": [],
   "source": [
    "class LogisticModel(nn.Module):\n",
    "    def __init__(self, feature_count, label_count):\n",
    "        super().__init__()\n",
    "        self.linear = nn.Linear(feature_count, label_count)\n",
    "\n",
    "    def forward(self, xb):\n",
    "        out = self.linear(xb)\n",
    "        return out\n",
    "\n",
    "    def training_step(self, batch):\n",
    "        features, labels = batch \n",
    "        out = self(features)\n",
    "        loss = F.cross_entropy(out, labels)\n",
    "        return loss\n",
    "    \n",
    "    def validation_step(self, batch):\n",
    "        features, labels = batch \n",
    "        out = self(features)\n",
    "        loss = F.cross_entropy(out, labels)\n",
    "        acc = accuracy(out, labels)\n",
    "        return { 'loss': loss, 'accuracy': acc }\n",
    "        \n",
    "    def validation_epoch_end(self, outputs):\n",
    "        batch_losses = [x['loss'] for x in outputs]\n",
    "        epoch_loss = torch.stack(batch_losses).mean()   # Combine losses\n",
    "        batch_accs = [x['accuracy'] for x in outputs]\n",
    "        epoch_acc = torch.stack(batch_accs).mean()      # Combine accuracies\n",
    "        return { 'loss': epoch_loss.item(), 'accuracy': epoch_acc.item() }\n",
    "    \n",
    "    def epoch_end(self, epoch, result):\n",
    "        print(\"Epoch [{}], loss: {:.4f}, accuracy: {:.4f}\".format(epoch, result['loss'], result['accuracy']))"
   ]
  },
  {
   "cell_type": "code",
   "execution_count": 186,
   "metadata": {},
   "outputs": [],
   "source": [
    "def fit(epochs, lr, model, train_dl, test_dl, opt_func=torch.optim.Adam):\n",
    "    optimizer = opt_func(model.parameters(), lr)\n",
    "    history = [] # for recording epoch-wise results\n",
    "\n",
    "    for epoch in range(epochs):\n",
    "        # Training Phase \n",
    "        for batch in train_dl:\n",
    "            loss = model.training_step(batch)\n",
    "            loss.backward()\n",
    "            optimizer.step()\n",
    "            optimizer.zero_grad()\n",
    "\n",
    "        # Validation phase\n",
    "        result = evaluate(model, test_dl)\n",
    "        model.epoch_end(epoch, result)\n",
    "        history.append(result)\n",
    "\n",
    "    return history"
   ]
  },
  {
   "cell_type": "code",
   "execution_count": 187,
   "metadata": {},
   "outputs": [
    {
     "name": "stdout",
     "output_type": "stream",
     "text": [
      "Epoch [0], loss: 0.3984, accuracy: 0.8268\n",
      "Epoch [1], loss: 0.3619, accuracy: 0.8424\n",
      "Epoch [2], loss: 0.3475, accuracy: 0.8472\n",
      "Epoch [3], loss: 0.3401, accuracy: 0.8500\n",
      "Epoch [4], loss: 0.3354, accuracy: 0.8520\n",
      "Epoch [5], loss: 0.3323, accuracy: 0.8521\n",
      "Epoch [6], loss: 0.3300, accuracy: 0.8535\n",
      "Epoch [7], loss: 0.3284, accuracy: 0.8542\n",
      "Epoch [8], loss: 0.3271, accuracy: 0.8548\n",
      "Epoch [9], loss: 0.3261, accuracy: 0.8547\n",
      "Epoch [10], loss: 0.3252, accuracy: 0.8553\n",
      "Epoch [11], loss: 0.3246, accuracy: 0.8565\n",
      "Epoch [12], loss: 0.3240, accuracy: 0.8567\n",
      "Epoch [13], loss: 0.3235, accuracy: 0.8568\n",
      "Epoch [14], loss: 0.3231, accuracy: 0.8567\n",
      "Epoch [15], loss: 0.3226, accuracy: 0.8575\n",
      "Epoch [16], loss: 0.3223, accuracy: 0.8576\n",
      "Epoch [17], loss: 0.3220, accuracy: 0.8580\n",
      "Epoch [18], loss: 0.3217, accuracy: 0.8582\n",
      "Epoch [19], loss: 0.3215, accuracy: 0.8583\n"
     ]
    }
   ],
   "source": [
    "feature_count = features.size()[-1]\n",
    "model = LogisticModel(feature_count, 2)\n",
    "history = fit(20, 0.005, model, train_dl, test_dl, torch.optim.SGD)"
   ]
  },
  {
   "cell_type": "code",
   "execution_count": 188,
   "metadata": {},
   "outputs": [
    {
     "data": {
      "text/plain": [
       "Text(0.5, 1.0, 'Accuracy vs. No. of epochs')"
      ]
     },
     "execution_count": 188,
     "metadata": {},
     "output_type": "execute_result"
    },
    {
     "data": {
      "image/png": "[encoded data removed]",
      "text/plain": [
       "<Figure size 432x288 with 1 Axes>"
      ]
     },
     "metadata": {
      "needs_background": "light"
     },
     "output_type": "display_data"
    }
   ],
   "source": [
    "accuracies = [result['accuracy'] for result in history]\n",
    "plt.plot(accuracies, '-x')\n",
    "plt.xlabel('epoch')\n",
    "plt.ylabel('accuracy')\n",
    "plt.title('Accuracy vs. No. of epochs')"
   ]
  },
  {
   "cell_type": "code",
   "execution_count": 189,
   "metadata": {},
   "outputs": [],
   "source": [
    "class BinaryModel(nn.Module):\n",
    "    def __init__(self, feature_count, dropout, hidden_size = 64):\n",
    "        super(BinaryModel, self).__init__()\n",
    "        self.layer1 = nn.Linear(feature_count, hidden_size)\n",
    "        self.layer2 = nn.Linear(hidden_size, hidden_size)\n",
    "        self.layer_out = nn.Linear(hidden_size, 1)\n",
    "\n",
    "        self.relu = nn.ReLU()\n",
    "        self.dropout = nn.Dropout(p=dropout)\n",
    "        self.batchnorm1 = nn.BatchNorm1d(hidden_size)\n",
    "        self.batchnorm2 = nn.BatchNorm1d(hidden_size)\n",
    "\n",
    "    def forward(self, xb):\n",
    "        out = self.relu(self.layer1(xb))\n",
    "        out = self.batchnorm1(out)\n",
    "        out = self.relu(self.layer2(out))\n",
    "        out = self.batchnorm2(out)\n",
    "        out = self.dropout(out)\n",
    "        out = self.layer_out(out)\n",
    "        return out\n",
    "\n",
    "    def training_step(self, batch):\n",
    "        features, labels = batch \n",
    "        out = self(features)\n",
    "        out = torch.squeeze(out)\n",
    "        loss = F.binary_cross_entropy_with_logits(out, labels.float())\n",
    "        return loss\n",
    "    \n",
    "    def validation_step(self, batch):\n",
    "        features, labels = batch\n",
    "        out = self(features)\n",
    "        out = torch.squeeze(out)\n",
    "        pred = torch.round(torch.sigmoid(out))\n",
    "        tp = (pred * labels).sum().float()\n",
    "        fn = (labels * (1 - pred)).sum().float()\n",
    "        recall = tp / (tp + fn)\n",
    "\n",
    "        loss = F.binary_cross_entropy_with_logits(out, labels.float())\n",
    "\n",
    "        return { 'loss': loss, 'recall': recall }\n",
    "        \n",
    "    def validation_epoch_end(self, outputs):\n",
    "        batch_losses = [x['loss'] for x in outputs]\n",
    "        epoch_loss = torch.stack(batch_losses).mean()\n",
    "        batch_recalls = [x['recall'] for x in outputs]\n",
    "        epoch_recall = torch.stack(batch_recalls).mean()\n",
    "        return { 'loss': epoch_loss.item(), 'recall': epoch_recall.item() }\n",
    "    \n",
    "    def epoch_end(self, epoch, result):\n",
    "        print(\"Epoch [{}], loss: {:.4f}, recall: {:.4f}\".format(epoch, result['loss'], result['recall']))"
   ]
  },
  {
   "cell_type": "code",
   "execution_count": 190,
   "metadata": {},
   "outputs": [
    {
     "name": "stdout",
     "output_type": "stream",
     "text": [
      "Epoch [0], loss: 0.2698, recall: 0.8674\n",
      "Epoch [1], loss: 0.2488, recall: 0.8825\n",
      "Epoch [2], loss: 0.2351, recall: 0.9179\n",
      "Epoch [3], loss: 0.2284, recall: 0.8973\n",
      "Epoch [4], loss: 0.2175, recall: 0.9019\n",
      "Epoch [5], loss: 0.2112, recall: 0.9112\n",
      "Epoch [6], loss: 0.2022, recall: 0.9179\n",
      "Epoch [7], loss: 0.2081, recall: 0.9339\n",
      "Epoch [8], loss: 0.1968, recall: 0.9298\n",
      "Epoch [9], loss: 0.1920, recall: 0.9385\n",
      "Epoch [10], loss: 0.1856, recall: 0.9273\n",
      "Epoch [11], loss: 0.1860, recall: 0.9319\n",
      "Epoch [12], loss: 0.1860, recall: 0.9276\n",
      "Epoch [13], loss: 0.1854, recall: 0.9399\n",
      "Epoch [14], loss: 0.1840, recall: 0.9526\n"
     ]
    }
   ],
   "source": [
    "dropout = 0.1\n",
    "model = BinaryModel(feature_count, dropout)\n",
    "history = fit(15, 0.001, model, train_dl, test_dl)"
   ]
  },
  {
   "cell_type": "code",
   "execution_count": 191,
   "metadata": {},
   "outputs": [
    {
     "data": {
      "text/plain": [
       "Text(0.5, 1.0, 'Recall vs. No. of epochs')"
      ]
     },
     "execution_count": 191,
     "metadata": {},
     "output_type": "execute_result"
    },
    {
     "data": {
      "image/png": "[encoded data removed]",
      "text/plain": [
       "<Figure size 432x288 with 1 Axes>"
      ]
     },
     "metadata": {
      "needs_background": "light"
     },
     "output_type": "display_data"
    }
   ],
   "source": [
    "accuracies = [result['recall'] for result in history]\n",
    "plt.plot(accuracies, '-x')\n",
    "plt.xlabel('epoch')\n",
    "plt.ylabel('recall')\n",
    "plt.title('Recall vs. No. of epochs')"
   ]
  }
 ],
 "metadata": {
  "interpreter": {
   "hash": "4885f37acae9217c235118400878352aafa7b76e66df698a1f601374f86939a7"
  },
  "kernelspec": {
   "display_name": "Python 3.7.9 64-bit ('springboard': conda)",
   "name": "python3"
  },
  "language_info": {
   "codemirror_mode": {
    "name": "ipython",
    "version": 3
   },
   "file_extension": ".py",
   "mimetype": "text/x-python",
   "name": "python",
   "nbconvert_exporter": "python",
   "pygments_lexer": "ipython3",
   "version": "3.8.12"
  }
 },
 "nbformat": 4,
 "nbformat_minor": 4
}
