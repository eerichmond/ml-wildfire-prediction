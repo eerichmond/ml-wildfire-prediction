{
 "cells": [
  {
   "cell_type": "markdown",
   "metadata": {},
   "source": [
    "# Train Full Dataset\n",
    "\n",
    "Up until this point I was training on 100K \"no fire\" data points and 92K \"fire\" data points using SciKit Learn to do a 30% train/test split. This worked fairly well to iterate on with the different tree and NN models. In order to run the whole data set, 28MM \"no fire\" data points and 92K \"fire\" data points, I needed to optimize a few things.\n",
    "\n",
    "The first problem I encountered was just trying to load 28MM rows from Sqlite into a Pandas Dataframe. I ran into issues pretty quickly running out of memory. The initial load took 3 hours to load up the Pandas DataFrame and took 55 GB of memory using a Jupyter Notebook. I realized I needed to reduce my memory footprint."
   ]
  },
  {
   "cell_type": "code",
   "execution_count": 1,
   "metadata": {},
   "outputs": [
    {
     "name": "stderr",
     "output_type": "stream",
     "text": [
      "/Users/eerichmo/opt/anaconda3/envs/ml-wildfire/lib/python3.8/site-packages/xgboost/compat.py:36: FutureWarning: pandas.Int64Index is deprecated and will be removed from pandas in a future version. Use pandas.Index with the appropriate dtype instead.\n",
      "  from pandas import MultiIndex, Int64Index\n"
     ]
    }
   ],
   "source": [
    "%matplotlib inline\n",
    "%load_ext autoreload\n",
    "%autoreload 2\n",
    "\n",
    "import joblib\n",
    "import matplotlib.pyplot as plt\n",
    "import numpy as np\n",
    "import pandas as pd\n",
    "from sklearn.metrics import classification_report\n",
    "from sklearn.metrics import recall_score\n",
    "from sklearn.preprocessing import StandardScaler\n",
    "from sklearn.model_selection import train_test_split\n",
    "import xgboost as xgb\n",
    "\n",
    "from experiments import all_col_queries"
   ]
  },
  {
   "cell_type": "code",
   "execution_count": 15,
   "metadata": {},
   "outputs": [
    {
     "name": "stdout",
     "output_type": "stream",
     "text": [
      "Recall for all columns: 0.8776098841964786\n"
     ]
    }
   ],
   "source": [
    "df = all_col_queries.get_df()\n",
    "\n",
    "df_encoded = pd.get_dummies(df.drop(['fire_size_class'], axis=1), columns=['month'])\n",
    "columns=df_encoded.columns.values\n",
    "scaler = StandardScaler()\n",
    "scaler.fit(df_encoded)\n",
    "\n",
    "X = scaler.transform(df_encoded)\n",
    "y = df.fire_size_class > ''\n",
    "\n",
    "X_train, X_test, y_train, y_test = train_test_split(X, y, random_state=42)\n",
    "\n",
    "model = xgb.XGBClassifier(\n",
    "    seed=42,\n",
    "    use_label_encoder=False,\n",
    "    objective='binary:logistic',\n",
    "    n_estimators=200,\n",
    "    max_depth=9,\n",
    "    learning_rate=0.2,\n",
    "    gamma=0.2,\n",
    "    eval_metric='logloss',\n",
    "    colsample_bytree=0.4,\n",
    ")\n",
    "\n",
    "model.fit(X_train, y_train)\n",
    "y_pred = model.predict(X_test)\n",
    "all_recall = recall_score(y_test, y_pred)\n",
    "\n",
    "print(f'Recall for all columns: {all_recall}')"
   ]
  },
  {
   "cell_type": "markdown",
   "metadata": {},
   "source": [
    "### 1. Dropping Highly Correlated Columns\n",
    "\n",
    "I started by identifing columns I could drop from the SQL query. I first used the correlation heatmap to identify features that were highly correlated like `wind min/max/range` at `10m/50m`, `temp min/max` at `2m`, `temp 0m`, `aspect unkonwn`, `cultivated land` and `nutrient retention`. I also added `dbtype` to the `read_sql_query` and reduced the default sizes for floats form `64` to `32` and ints from `64` to `8` to reduce the memory footprint."
   ]
  },
  {
   "cell_type": "code",
   "execution_count": 15,
   "metadata": {},
   "outputs": [
    {
     "name": "stdout",
     "output_type": "stream",
     "text": [
      "Recall after removing highly correlated columns: 0.8914421211467989\n"
     ]
    }
   ],
   "source": [
    "correlated_cols = ['temp_max_2m', 'temp_min_2m', 'temp_0m', 'temp_wet_bulb_2m', 'wind_max_10m', 'wind_min_10m', 'wind_range_10m', 'wind_max_50m', 'wind_min_50m', 'wind_range_50m', 'aspect_unknown', 'cultivated_land', 'nutrient_retention']\n",
    "df_no_corr = df.drop(correlated_cols, axis=1)\n",
    "df_no_corr_encoded = pd.get_dummies(df_no_corr.drop(['fire_size_class'], axis=1), columns=['month'])\n",
    "columns=df_no_corr_encoded.columns.values\n",
    "scaler = StandardScaler()\n",
    "scaler.fit(df_no_corr_encoded)\n",
    "\n",
    "X_no_corr = scaler.transform(df_no_corr_encoded)\n",
    "y_no_corr = df_no_corr.fire_size_class > ''\n",
    "\n",
    "X_no_corr_train, X_no_corr_test, y_no_corr_train, y_no_corr_test = train_test_split(X_no_corr, y_no_corr, random_state=42)\n",
    "\n",
    "model = xgb.XGBClassifier(\n",
    "    seed=42,\n",
    "    use_label_encoder=False,\n",
    "    objective='binary:logistic',\n",
    "    n_estimators=200,\n",
    "    max_depth=9,\n",
    "    learning_rate=0.2,\n",
    "    gamma=0.2,\n",
    "    eval_metric='logloss',\n",
    "    colsample_bytree=0.4,\n",
    ")\n",
    "\n",
    "model.fit(X_no_corr_train, y_no_corr_train)\n",
    "y_no_corr_pred = model.predict(X_no_corr_test)\n",
    "no_corr_recall = recall_score(y_no_corr_test, y_no_corr_pred)\n",
    "\n",
    "print(f'Recall after removing highly correlated columns: {no_corr_recall}')"
   ]
  },
  {
   "cell_type": "markdown",
   "metadata": {},
   "source": [
    "### 2. Dropping Columns that Make Recall Worse\n",
    "\n",
    "Next I tried removing features one at a time and seeing if the removed features would improve the recall score. Dropping individual columns didn't seem to make much difference."
   ]
  },
  {
   "cell_type": "code",
   "execution_count": 11,
   "metadata": {},
   "outputs": [
    {
     "name": "stdout",
     "output_type": "stream",
     "text": [
      "Recall for dropping 0 col: 0.8638068549256305\n",
      "Recall for dropping 1 col: 0.864539771502479\n",
      "Recall for dropping 2 col: 0.8568225910756628\n",
      "Recall for dropping 3 col: 0.8775167061866782\n",
      "Recall for dropping 4 col: 0.8738521233024359\n",
      "Recall for dropping 5 col: 0.8789394266005605\n",
      "Recall for dropping 6 col: 0.8776029316663074\n",
      "Recall for dropping 7 col: 0.8782927355033412\n",
      "Recall for dropping 8 col: 0.8796723431774089\n",
      "Recall for dropping 9 col: 0.8791549902996335\n",
      "Recall for dropping 10 col: 0.8776891571459366\n",
      "Recall for dropping 11 col: 0.8812675145505496\n",
      "Drop cols [11]\n",
      "Recall for dropping 12 col: 0.8798447941366674\n",
      "Recall for dropping 13 col: 0.8806639361931451\n",
      "Recall for dropping 14 col: 0.8816124164690666\n",
      "Drop cols [11, 14]\n",
      "Recall for dropping 15 col: 0.8841129553783142\n",
      "Drop cols [11, 14, 15]\n",
      "Recall for dropping 16 col: 0.8825177840051736\n",
      "Recall for dropping 17 col: 0.8784651864625997\n",
      "Recall for dropping 18 col: 0.8833369260616513\n",
      "Recall for dropping 19 col: 0.8835093770209097\n",
      "Recall for dropping 20 col: 0.8807501616727743\n",
      "Recall for dropping 21 col: 0.8793705539987067\n",
      "Recall for dropping 22 col: 0.8798447941366674\n",
      "Recall for dropping 23 col: 0.8833800388014659\n",
      "Recall for dropping 24 col: 0.8789394266005605\n",
      "Recall for dropping 25 col: 0.8797154559172236\n",
      "Recall for dropping 26 col: 0.8798447941366674\n",
      "Recall for dropping 27 col: 0.8817848674283251\n",
      "Recall for dropping 28 col: 0.8811812890709204\n",
      "Recall for dropping 29 col: 0.8816555292088812\n",
      "Recall for dropping 30 col: 0.8802328087949989\n",
      "Recall for dropping 31 col: 0.878766975641302\n",
      "Recall for dropping 32 col: 0.8796723431774089\n",
      "Recall for dropping 33 col: 0.8822159948264712\n",
      "Recall for dropping 34 col: 0.8825608967449882\n",
      "Recall for dropping 35 col: 0.8804914852338867\n",
      "Recall for dropping 36 col: 0.8808794998922181\n",
      "Recall for dropping 37 col: 0.8806639361931451\n",
      "Recall for dropping 38 col: 0.8831644751023927\n",
      "Recall for dropping 39 col: 0.8808794998922181\n",
      "Recall for dropping 40 col: 0.8803621470144428\n",
      "Recall for dropping 41 col: 0.8833800388014659\n",
      "Recall for dropping 42 col: 0.8816555292088812\n",
      "Recall for dropping 43 col: 0.8794567794783359\n",
      "Recall for dropping 44 col: 0.8801896960551843\n",
      "Recall for dropping 45 col: 0.8806208234533305\n",
      "Recall for dropping 46 col: 0.8832075878422073\n",
      "Recall for dropping 47 col: 0.8805345979737013\n",
      "Recall for dropping 48 col: 0.8798016813968528\n",
      "Recall for dropping 49 col: 0.8802328087949989\n",
      "Recall for dropping 50 col: 0.8815261909894374\n",
      "Recall for dropping 51 col: 0.879327441258892\n",
      "Recall for dropping 52 col: 0.881569303729252\n",
      "Recall for dropping 53 col: 0.8832075878422073\n",
      "Recall for dropping 54 col: 0.880103470575555\n",
      "Recall for dropping 55 col: 0.8819573183875835\n",
      "Recall for dropping 56 col: 0.8823022203061005\n",
      "Recall for dropping 57 col: 0.8810950635912912\n",
      "Recall for dropping 58 col: 0.8811381763311058\n",
      "Recall for dropping 59 col: 0.8809657253718474\n",
      "Recall for dropping 60 col: 0.8810950635912912\n",
      "Recall for dropping 61 col: 0.8823022203061005\n",
      "Recall for dropping 62 col: 0.8805777107135159\n",
      "Recall for dropping 63 col: 0.882474671265359\n",
      "Recall for dropping 64 col: 0.8828626859236904\n",
      "Recall for dropping 65 col: 0.8813968527699936\n",
      "Recall for dropping 66 col: 0.8808794998922181\n",
      "Recall for dropping 67 col: 0.8825608967449882\n",
      "Columns to drop: [11, 14, 15]\n"
     ]
    }
   ],
   "source": [
    "drop_cols = []\n",
    "best_recall = all_recall\n",
    "\n",
    "# Remove features one at a time to see if the feature is valuable\n",
    "for i in range(X_train.shape[1]):\n",
    "    if i not in drop_cols:\n",
    "        drop_cols_try = drop_cols + [i]\n",
    "        X_train_try = np.delete(X_train, drop_cols_try, axis=1)\n",
    "\n",
    "        model = xgb.XGBClassifier(\n",
    "            seed=42,\n",
    "            use_label_encoder=False,\n",
    "            objective='binary:logistic',\n",
    "            n_estimators=200,\n",
    "            max_depth=9,\n",
    "            learning_rate=0.2,\n",
    "            gamma=0.2,\n",
    "            eval_metric='logloss',\n",
    "            colsample_bytree=0.4,\n",
    "        )\n",
    "\n",
    "        model.fit(X_train_try, y_train)\n",
    "\n",
    "        X_test_try = np.delete(X_test, drop_cols_try, axis=1)\n",
    "        y_pred = model.predict(X_test_try)\n",
    "\n",
    "        recall = recall_score(y_test, y_pred)\n",
    "\n",
    "        print(f'Recall for dropping {i} col: {recall}')\n",
    "\n",
    "        if recall > best_recall:\n",
    "            drop_cols.append(i)\n",
    "            print(f'Drop cols {drop_cols}')\n",
    "            best_recall = recall\n",
    "\n",
    "print(f'Columns to drop: {drop_cols}')\n"
   ]
  },
  {
   "cell_type": "code",
   "execution_count": 13,
   "metadata": {},
   "outputs": [
    {
     "name": "stdout",
     "output_type": "stream",
     "text": [
      "Columns to drop: ['temp_range_2m' 'wind_50m' 'drought_score']\n"
     ]
    }
   ],
   "source": [
    "print(f'Columns to drop: {np.take(columns, drop_cols)}')"
   ]
  },
  {
   "cell_type": "markdown",
   "metadata": {},
   "source": [
    "### 3. Save numpy Binaries Outside of Jupyter\n",
    "\n",
    "Next I broke out the loading up of the train and test data into a `trainer/export.py` Python script that serializes the `X_train`, `X_test`, `y_train` and `y_test` into binary numpy array files so that I could re-train without having to wait for the Sqlite data to load up. I also ran this outside of the Jupyter Notebook to free up some memory. The resulting binary files took over 3 hours to generate and were `12GB`, `700MB`, `27M` and `2MB` respectively."
   ]
  },
  {
   "cell_type": "code",
   "execution_count": 12,
   "metadata": {},
   "outputs": [],
   "source": [
    "# python src/trainer/export.py test\n",
    "# => X_test, y_test\n",
    "# python src/trainer/export.py train\n",
    "# => X_train, y_train"
   ]
  },
  {
   "cell_type": "markdown",
   "metadata": {},
   "source": [
    "### 4. Train Model Outside Jupyter \n",
    "\n",
    "I did the same for the `trainier/train.py` standalone Python script that loaded up the binaries and generated either a LightGBM or XGBoost model pickle file. Generating the XGBoost model picle took about an hour."
   ]
  },
  {
   "cell_type": "code",
   "execution_count": 16,
   "metadata": {},
   "outputs": [],
   "source": [
    "# python src/trainer/train.py xgb\n",
    "# => xgb_model.pickle\n",
    "\n",
    "# python src/trainer/train.py lgbm\n",
    "# => lgbm_model.pickle"
   ]
  },
  {
   "cell_type": "markdown",
   "metadata": {},
   "source": [
    "### 5. Test XGBoost and LightGBM"
   ]
  },
  {
   "cell_type": "code",
   "execution_count": 8,
   "metadata": {},
   "outputs": [],
   "source": [
    "X_test = np.load('./data/X_test.npy')\n",
    "y_test = np.load('./data/y_test.npy')"
   ]
  },
  {
   "cell_type": "code",
   "execution_count": 9,
   "metadata": {},
   "outputs": [
    {
     "name": "stdout",
     "output_type": "stream",
     "text": [
      "XGBoost Classification Report\n",
      "              precision    recall  f1-score   support\n",
      "\n",
      "           0       1.00      0.89      0.94   1486756\n",
      "           1       0.01      0.58      0.02      2438\n",
      "\n",
      "    accuracy                           0.89   1489194\n",
      "   macro avg       0.50      0.74      0.48   1489194\n",
      "weighted avg       1.00      0.89      0.94   1489194\n",
      "\n"
     ]
    }
   ],
   "source": [
    "xgb_model = joblib.load(f'./app/models/xgb_model.pickle')\n",
    "\n",
    "y_pred_xgb = xgb_model.predict(X_test)\n",
    "\n",
    "print(f'XGBoost Classification Report')\n",
    "print(classification_report(y_test, y_pred_xgb))"
   ]
  },
  {
   "cell_type": "code",
   "execution_count": 11,
   "metadata": {},
   "outputs": [
    {
     "name": "stdout",
     "output_type": "stream",
     "text": [
      "54\n"
     ]
    },
    {
     "data": {
      "text/plain": [
       "Text(0.5, 1.0, 'XGBoost feature importances')"
      ]
     },
     "execution_count": 11,
     "metadata": {},
     "output_type": "execute_result"
    },
    {
     "data": {
      "image/png": "[encoded data removed]",
      "text/plain": [
       "<Figure size 432x648 with 1 Axes>"
      ]
     },
     "metadata": {
      "needs_background": "light"
     },
     "output_type": "display_data"
    }
   ],
   "source": [
    "columns = pd.get_dummies(df.drop(['fire_size_class','temp_wet_bulb_2m','temp_max_2m','temp_min_2m','temp_0m','wind_max_10m','wind_min_10m','wind_range_10m','wind_50m','wind_max_50m','wind_min_50m','wind_range_50m', 'aspect_unknown', 'cultivated_land', 'nutrient_retention'], axis=1), columns=['month']).columns\n",
    "print(len(columns))\n",
    "importances_xgb = xgb_model.feature_importances_\n",
    "importances_xgb = pd.Series(importances_xgb, index=columns).sort_values().tail(30)\n",
    "\n",
    "fig, ax = plt.subplots()\n",
    "fig.set_figheight(9)\n",
    "importances_xgb.plot.barh(ax=ax)\n",
    "ax.set_title('XGBoost feature importances')"
   ]
  },
  {
   "cell_type": "code",
   "execution_count": 12,
   "metadata": {},
   "outputs": [
    {
     "name": "stdout",
     "output_type": "stream",
     "text": [
      "LightGBM Classification Report\n",
      "              precision    recall  f1-score   support\n",
      "\n",
      "           0       1.00      0.58      0.73   1486756\n",
      "           1       0.00      0.76      0.01      2438\n",
      "\n",
      "    accuracy                           0.58   1489194\n",
      "   macro avg       0.50      0.67      0.37   1489194\n",
      "weighted avg       1.00      0.58      0.73   1489194\n",
      "\n"
     ]
    }
   ],
   "source": [
    "lgbm_model = joblib.load(f'./app/models/lgbm_model.pickle')\n",
    "\n",
    "y_pred_lgbm = lgbm_model.predict(X_test)\n",
    "\n",
    "print(f'LightGBM Classification Report')\n",
    "print(classification_report(y_test, y_pred_lgbm))"
   ]
  },
  {
   "cell_type": "markdown",
   "metadata": {},
   "source": []
  }
 ],
 "metadata": {
  "interpreter": {
   "hash": "4885f37acae9217c235118400878352aafa7b76e66df698a1f601374f86939a7"
  },
  "kernelspec": {
   "display_name": "Python 3.7.9 64-bit ('springboard': conda)",
   "name": "python3"
  },
  "language_info": {
   "codemirror_mode": {
    "name": "ipython",
    "version": 3
   },
   "file_extension": ".py",
   "mimetype": "text/x-python",
   "name": "python",
   "nbconvert_exporter": "python",
   "pygments_lexer": "ipython3",
   "version": "3.8.13"
  }
 },
 "nbformat": 4,
 "nbformat_minor": 4
}
